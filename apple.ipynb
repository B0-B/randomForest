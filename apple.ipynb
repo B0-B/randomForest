{
 "cells": [
  {
   "cell_type": "code",
   "execution_count": 1,
   "metadata": {},
   "outputs": [],
   "source": [
    "from lib import *\n",
    "\n"
   ]
  },
  {
   "cell_type": "code",
   "execution_count": 2,
   "metadata": {},
   "outputs": [],
   "source": [
    "s = Set(classes=['good', 'bad'], features={\n",
    "    'Size': float,\n",
    "    'Sweetness': float,\n",
    "    'Chrunchiness': float,\n",
    "    'Juiciness': float,\n",
    "    'Ripeness': float,\n",
    "    'Acidity': float\n",
    "})"
   ]
  },
  {
   "cell_type": "code",
   "execution_count": 3,
   "metadata": {},
   "outputs": [
    {
     "name": "stdout",
     "output_type": "stream",
     "text": [
      "4000 elements loaded.\n"
     ]
    }
   ],
   "source": [
    "_set = loadSetFromCsv('./apple_quality.csv', ',', ignoreColumns=[0])"
   ]
  },
  {
   "cell_type": "code",
   "execution_count": 7,
   "metadata": {},
   "outputs": [],
   "source": [
    "# sample a random element\n",
    "randomElement = _set.sample()[0]"
   ]
  },
  {
   "cell_type": "code",
   "execution_count": 8,
   "metadata": {},
   "outputs": [
    {
     "name": "stdout",
     "output_type": "stream",
     "text": [
      "Size: 0.848270123\n",
      "Weight: -0.743180273\n",
      "Sweetness: -1.524567061\n",
      "Crunchiness: 1.043947841\n",
      "Juiciness: 0.51421072\n",
      "Ripeness: 1.169524813\n",
      "Acidity: -1.284494762\n",
      "class: bad\n"
     ]
    }
   ],
   "source": [
    "randomElement.show()"
   ]
  },
  {
   "cell_type": "code",
   "execution_count": 10,
   "metadata": {},
   "outputs": [],
   "source": [
    "_forest = Forest(_set, 20, 3, 5)\n",
    "_forest.grow(1)"
   ]
  }
 ],
 "metadata": {
  "kernelspec": {
   "display_name": "Python 3",
   "language": "python",
   "name": "python3"
  },
  "language_info": {
   "codemirror_mode": {
    "name": "ipython",
    "version": 3
   },
   "file_extension": ".py",
   "mimetype": "text/x-python",
   "name": "python",
   "nbconvert_exporter": "python",
   "pygments_lexer": "ipython3",
   "version": "3.11.4"
  }
 },
 "nbformat": 4,
 "nbformat_minor": 2
}
