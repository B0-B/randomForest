{
 "cells": [
  {
   "cell_type": "code",
   "execution_count": 2,
   "metadata": {},
   "outputs": [
    {
     "name": "stdout",
     "output_type": "stream",
     "text": [
      "Root\n",
      "/-left child of Root\n",
      "/--left child of left child of Root\n",
      "/---left child of left child of left child of Root\n",
      "\\---right child of left child of left child of Root\n",
      "\\--right child of left child of Root\n",
      "/---left child of right child of left child of Root\n",
      "\\---right child of right child of left child of Root\n",
      "\\-right child of Root\n",
      "/--left child of right child of Root\n",
      "/---left child of left child of right child of Root\n",
      "\\---right child of left child of right child of Root\n",
      "\\--right child of right child of Root\n",
      "/---left child of right child of right child of Root\n",
      "\\---right child of right child of right child of Root\n"
     ]
    }
   ],
   "source": [
    "def print_tree(text, depth=0, direction='root'):\n",
    "    if direction == 'left':\n",
    "        prefix = '/' + '-' * depth\n",
    "    elif direction == 'right':\n",
    "        prefix = '\\\\' + '-' * depth\n",
    "    else:  # root\n",
    "        prefix = ''\n",
    "\n",
    "    print(prefix + text)\n",
    "\n",
    "    if depth < 3:  # limit the depth of the tree\n",
    "        print_tree('left child of ' + text, depth + 1, 'left')\n",
    "        print_tree('right child of ' + text, depth + 1, 'right')\n",
    "\n",
    "# Example usage:\n",
    "print_tree('Root')"
   ]
  },
  {
   "cell_type": "code",
   "execution_count": 5,
   "metadata": {},
   "outputs": [
    {
     "name": "stdout",
     "output_type": "stream",
     "text": [
      "  A  \n",
      " B*C \n",
      "D*E*F\n"
     ]
    }
   ],
   "source": [
    "def print_tree(n, text_dict):\n",
    "    # Initialize the tree with spaces\n",
    "    tree = [[\" \" for _ in range(2*n-1)] for _ in range(n)]\n",
    "    \n",
    "    # Fill in the tree with node values\n",
    "    for i in range(n):\n",
    "        for j in range(n-i-1, n+i):\n",
    "            tree[i][j] = text_dict.get((i, j), \"*\")\n",
    "    \n",
    "    # Print the tree\n",
    "    for row in tree:\n",
    "        print(\"\".join(row))\n",
    "\n",
    "# Usage:\n",
    "# Define a dictionary where keys are (row, column) and values are the node texts\n",
    "text_dict = {(0, 2): \"A\", (1, 1): \"B\", (1, 3): \"C\", (2, 0): \"D\", (2, 2): \"E\", (2, 4): \"F\"}\n",
    "\n",
    "# Call the function with the number of levels and the text dictionary\n",
    "print_tree(3, text_dict)"
   ]
  },
  {
   "cell_type": "code",
   "execution_count": 6,
   "metadata": {},
   "outputs": [
    {
     "name": "stdout",
     "output_type": "stream",
     "text": [
      "/-- Root node\n",
      "    /-- Left child node with\n",
      "         a very long text th\n",
      "        at will be broken in\n",
      "        to multiple lines\n",
      "    \\-- Right child node\n"
     ]
    }
   ],
   "source": [
    "def print_tree(node, level=0, direction='/'):\n",
    "    padding = ' ' * level * 4\n",
    "    text = node['text']\n",
    "    max_width = 20\n",
    "    lines = [text[i:i+max_width] for i in range(0, len(text), max_width)]\n",
    "    for i, line in enumerate(lines):\n",
    "        if i == 0:\n",
    "            print(f\"{padding}{direction}-- {line}\")\n",
    "        else:\n",
    "            print(f\"{padding}    {line}\")\n",
    "    for child in node.get('children', []):\n",
    "        print_tree(child, level+1, '/' if child is node['children'][0] else '\\\\')\n",
    "\n",
    "# Example usage:\n",
    "tree = {\n",
    "    'text': 'Root node',\n",
    "    'children': [\n",
    "        {'text': 'Left child node with a very long text that will be broken into multiple lines'},\n",
    "        {'text': 'Right child node'}\n",
    "    ]\n",
    "}\n",
    "print_tree(tree)"
   ]
  },
  {
   "cell_type": "code",
   "execution_count": 7,
   "metadata": {},
   "outputs": [
    {
     "name": "stdout",
     "output_type": "stream",
     "text": [
      "    /\\\n",
      "   /  \\\n",
      "  /    \\\n",
      " /      \\\n",
      "/        \\\n"
     ]
    }
   ],
   "source": [
    "def print_pyramid(levels):\n",
    "    for i in range(levels):\n",
    "        print(' ' * (levels - i - 1) + '/' + ' ' * i * 2 + '\\\\')\n",
    "\n",
    "print_pyramid(5)"
   ]
  },
  {
   "cell_type": "code",
   "execution_count": 8,
   "metadata": {},
   "outputs": [
    {
     "name": "stdout",
     "output_type": "stream",
     "text": [
      "/-- Root node\n",
      "    /-- Left child node with\n",
      "         a very long text th\n",
      "        at will be broken in\n",
      "        to multiple lines\n",
      "    \\-- Right child node\n"
     ]
    }
   ],
   "source": [
    "def print_pyramid(node, level=0, direction='/'):\n",
    "    padding = ' ' * level * 4\n",
    "    text = node['text']\n",
    "    max_width = 20\n",
    "    lines = [text[i:i+max_width] for i in range(0, len(text), max_width)]\n",
    "    for i, line in enumerate(lines):\n",
    "        if i == 0:\n",
    "            print(f\"{padding}{direction}-- {line}\")\n",
    "        else:\n",
    "            print(f\"{padding}    {line}\")\n",
    "    for child in node.get('children', []):\n",
    "        print_pyramid(child, level+1, '/' if child is node['children'][0] else '\\\\')\n",
    "\n",
    "# Example usage:\n",
    "tree = {\n",
    "    'text': 'Root node',\n",
    "    'children': [\n",
    "        {'text': 'Left child node with a very long text that will be broken into multiple lines'},\n",
    "        {'text': 'Right child node'}\n",
    "    ]\n",
    "}\n",
    "print_pyramid(tree)"
   ]
  }
 ],
 "metadata": {
  "kernelspec": {
   "display_name": "Python 3",
   "language": "python",
   "name": "python3"
  },
  "language_info": {
   "codemirror_mode": {
    "name": "ipython",
    "version": 3
   },
   "file_extension": ".py",
   "mimetype": "text/x-python",
   "name": "python",
   "nbconvert_exporter": "python",
   "pygments_lexer": "ipython3",
   "version": "3.11.4"
  }
 },
 "nbformat": 4,
 "nbformat_minor": 2
}
