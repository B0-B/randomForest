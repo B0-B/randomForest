{
 "cells": [
  {
   "cell_type": "code",
   "execution_count": null,
   "metadata": {},
   "outputs": [],
   "source": [
    "class Node:\n",
    "    def __init__(self, text):\n",
    "        self.text = text\n",
    "        self.children = []\n",
    "\n",
    "    def add_child(self, node):\n",
    "        self.children.append(node)\n",
    "\n",
    "def print_tree(node, level=0):\n",
    "    print(' ' * level + node.text)\n",
    "    for child in node.children:\n",
    "        print_tree(child, level + 1)\n",
    "\n",
    "# Example usage:\n",
    "root = Node(\"Root\")\n",
    "child1 = Node(\"Child 1\")\n",
    "child2 = Node(\"Child 2\")\n",
    "\n",
    "root.add_child(child1)\n",
    "root.add_child(child2)\n",
    "\n",
    "print_tree(root)"
   ]
  }
 ],
 "metadata": {
  "kernelspec": {
   "display_name": "Python 3",
   "language": "python",
   "name": "python3"
  },
  "language_info": {
   "name": "python",
   "version": "3.11.4"
  }
 },
 "nbformat": 4,
 "nbformat_minor": 2
}
